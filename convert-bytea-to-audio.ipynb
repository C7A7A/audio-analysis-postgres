{
 "cells": [
  {
   "cell_type": "code",
   "execution_count": 27,
   "id": "9b0ece80-a97c-4ad3-a594-035f3451a614",
   "metadata": {},
   "outputs": [],
   "source": [
    "import psycopg2\n",
    "from pydub import AudioSegment\n",
    "import io\n",
    "import os"
   ]
  },
  {
   "cell_type": "code",
   "execution_count": 21,
   "id": "e6dc5545-1b90-41c5-bae7-c61aeaa5e4fa",
   "metadata": {},
   "outputs": [],
   "source": [
    "# DATABASE CONNECTION \n",
    "HOST = \"localhost\"\n",
    "DATABASE = \"audio\"\n",
    "USER = \"postgres\"\n",
    "PASSWORD = \"postgres\""
   ]
  },
  {
   "cell_type": "code",
   "execution_count": 31,
   "id": "575e636d-16f3-4596-97e5-bea92ce33f81",
   "metadata": {},
   "outputs": [],
   "source": [
    "conn = psycopg2.connect(\n",
    "    host=HOST,\n",
    "    database=DATABASE,\n",
    "    user=USER,\n",
    "    password=PASSWORD\n",
    ")\n",
    "\n",
    "cursor = conn.cursor()"
   ]
  },
  {
   "cell_type": "code",
   "execution_count": 32,
   "id": "a51100dd-d04d-4a7b-8a8d-116404fd41b7",
   "metadata": {},
   "outputs": [],
   "source": [
    "query = \"SELECT name, category, extension, encode(audio, 'hex') AS audio FROM audio_data\"\n",
    "cursor.execute(query)\n",
    "\n",
    "rows = cursor.fetchall()"
   ]
  },
  {
   "cell_type": "code",
   "execution_count": 33,
   "id": "ac80d170-5f61-4aec-9596-6fa143fbb2ca",
   "metadata": {},
   "outputs": [],
   "source": [
    "for row in rows:\n",
    "    name, category, extension, audio_hex = row\n",
    "\n",
    "    if extension.lower() == 'mp3':\n",
    "        audio_bytes = bytes.fromhex(audio_hex)\n",
    "        audio = AudioSegment.from_file(io.BytesIO(audio_bytes), format=\"mp3\")\n",
    "\n",
    "        output_folder=f\"audio_data/{category}\"\n",
    "        os.makedirs(output_folder, exist_ok=True)\n",
    "        \n",
    "        output_filename = f\"{output_folder}/{name}.{extension}\"\n",
    "        audio.export(output_filename, format=\"mp3\")\n",
    "    else:\n",
    "        print(f'{extension} is not mp3 extension')\n",
    "        "
   ]
  },
  {
   "cell_type": "code",
   "execution_count": 34,
   "id": "7addee5f-0f80-4023-8d17-96432b61456b",
   "metadata": {},
   "outputs": [],
   "source": [
    "cursor.close()\n",
    "conn.close()"
   ]
  },
  {
   "cell_type": "code",
   "execution_count": null,
   "id": "3c9fcd88-47aa-4bf8-b456-9efc70ac7f82",
   "metadata": {},
   "outputs": [],
   "source": []
  }
 ],
 "metadata": {
  "kernelspec": {
   "display_name": "Python 3 (ipykernel)",
   "language": "python",
   "name": "python3"
  },
  "language_info": {
   "codemirror_mode": {
    "name": "ipython",
    "version": 3
   },
   "file_extension": ".py",
   "mimetype": "text/x-python",
   "name": "python",
   "nbconvert_exporter": "python",
   "pygments_lexer": "ipython3",
   "version": "3.12.0"
  }
 },
 "nbformat": 4,
 "nbformat_minor": 5
}
