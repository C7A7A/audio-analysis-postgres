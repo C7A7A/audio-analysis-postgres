{
 "cells": [
  {
   "cell_type": "code",
   "execution_count": 4,
   "id": "8e6087f5-1362-4484-aac0-43967709554b",
   "metadata": {},
   "outputs": [],
   "source": [
    "import os\n",
    "import psycopg2\n",
    "from psycopg2 import sql"
   ]
  },
  {
   "cell_type": "code",
   "execution_count": 5,
   "id": "60b786cf-94c1-4edd-bf3e-f11867e7cb89",
   "metadata": {},
   "outputs": [],
   "source": [
    "# DATABASE CONNECTION \n",
    "HOST = \"localhost\"\n",
    "DATABASE = \"audio\"\n",
    "USER = \"postgres\"\n",
    "PASSWORD = \"postgres\""
   ]
  },
  {
   "cell_type": "code",
   "execution_count": 6,
   "id": "931ef371-8328-4d5e-8685-5c31e94636b8",
   "metadata": {},
   "outputs": [],
   "source": [
    "conn = psycopg2.connect(\n",
    "    host=HOST,\n",
    "    database=DATABASE,\n",
    "    user=USER,\n",
    "    password=PASSWORD\n",
    ")\n",
    "\n",
    "cursor = conn.cursor()"
   ]
  },
  {
   "cell_type": "code",
   "execution_count": 33,
   "id": "193d1c29-60b1-4ae9-860d-fbcf10086903",
   "metadata": {},
   "outputs": [
    {
     "name": "stdout",
     "output_type": "stream",
     "text": [
      "Inserting data from: alternative\n",
      "Inserting data from: blues\n",
      "Inserting data from: electronic\n",
      "Inserting data from: folkcountry\n",
      "Inserting data from: funksoulrnb\n",
      "Inserting data from: jazz\n",
      "Inserting data from: pop\n",
      "Inserting data from: raphiphop\n",
      "Inserting data from: rock\n"
     ]
    }
   ],
   "source": [
    "project_directory = os.getcwd()\n",
    "data_folder_path = os.path.join(project_directory, 'data')\n",
    "\n",
    "if os.path.exists(data_folder_path) == False:\n",
    "    print(\"The 'data' folder does not exist.\")\n",
    "    \n",
    "for category_folder in os.listdir(data_folder_path):\n",
    "    print(f'Inserting data from: {category_folder}')\n",
    "    \n",
    "    category_path = os.path.join(data_folder_path, category_folder)\n",
    "    for audio_file in os.listdir(category_path):\n",
    "        file_name, file_extension = os.path.splitext(audio_file)\n",
    "        file_extension = file_extension.lstrip('.')\n",
    "        # print(f'name: {file_name} extension: {file_extension}')\n",
    "        \n",
    "        audio_file_path = os.path.join(category_path, audio_file)\n",
    "        \n",
    "        with open(audio_file_path, 'rb') as audio_file_content:\n",
    "            audio_binary_data = audio_file_content.read()\n",
    "\n",
    "        insert_query = sql.SQL(\"\"\"\n",
    "            INSERT INTO audio_data (name, category, extension, audio)\n",
    "            VALUES (%s, %s, %s, %s);\n",
    "        \"\"\")\n",
    "\n",
    "        cursor.execute(insert_query, (file_name, category_folder, file_extension, audio_binary_data))\n",
    "        conn.commit()"
   ]
  },
  {
   "cell_type": "code",
   "execution_count": 7,
   "id": "554f26d9-c113-4253-8681-9fbdbc764445",
   "metadata": {},
   "outputs": [],
   "source": [
    "cursor.close()\n",
    "conn.close()"
   ]
  },
  {
   "cell_type": "code",
   "execution_count": null,
   "id": "8e85b7a3-6520-4ff8-97c8-a252dcfa0a15",
   "metadata": {},
   "outputs": [],
   "source": []
  }
 ],
 "metadata": {
  "kernelspec": {
   "display_name": "Python 3 (ipykernel)",
   "language": "python",
   "name": "python3"
  },
  "language_info": {
   "codemirror_mode": {
    "name": "ipython",
    "version": 3
   },
   "file_extension": ".py",
   "mimetype": "text/x-python",
   "name": "python",
   "nbconvert_exporter": "python",
   "pygments_lexer": "ipython3",
   "version": "3.8.18"
  }
 },
 "nbformat": 4,
 "nbformat_minor": 5
}
