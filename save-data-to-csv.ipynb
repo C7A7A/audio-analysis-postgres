{
 "cells": [
  {
   "cell_type": "code",
   "execution_count": 4,
   "id": "25ff2caf-ee49-409b-a3da-97245736721c",
   "metadata": {},
   "outputs": [],
   "source": [
    "import psycopg2\n",
    "import csv"
   ]
  },
  {
   "cell_type": "code",
   "execution_count": 5,
   "id": "5341d77b-b8b6-430f-92a2-5ed9403aa286",
   "metadata": {},
   "outputs": [],
   "source": [
    "# DATABASE CONNECTION \n",
    "HOST = \"localhost\"\n",
    "DATABASE = \"audio\"\n",
    "USER = \"postgres\"\n",
    "PASSWORD = \"postgres\""
   ]
  },
  {
   "cell_type": "code",
   "execution_count": 12,
   "id": "bafffd5f-f86c-480f-bb9a-01f33d3821a7",
   "metadata": {},
   "outputs": [],
   "source": [
    "conn = psycopg2.connect(\n",
    "    host=HOST,\n",
    "    database=DATABASE,\n",
    "    user=USER,\n",
    "    password=PASSWORD\n",
    ")\n",
    "\n",
    "cursor = conn.cursor()"
   ]
  },
  {
   "cell_type": "code",
   "execution_count": 13,
   "id": "a094928d-a68c-4c11-b04f-d5f09e52d359",
   "metadata": {},
   "outputs": [],
   "source": [
    "query = \"SELECT id, name, category, extension, encode(audio, 'hex') as audio FROM audio_data\"\n",
    "cursor.execute(query)\n",
    "\n",
    "rows = cursor.fetchall()"
   ]
  },
  {
   "cell_type": "code",
   "execution_count": 14,
   "id": "194665c2-9380-4633-b83f-f63a17fe428b",
   "metadata": {},
   "outputs": [
    {
     "name": "stdout",
     "output_type": "stream",
     "text": [
      "Data was sucessfully exported to audio_data.csv\n"
     ]
    }
   ],
   "source": [
    "csv_file_path = \"audio_data.csv\"\n",
    "\n",
    "with open(csv_file_path, \"w\", newline=\"\") as csv_file:\n",
    "    csv_writer = csv.writer(csv_file)\n",
    "\n",
    "    # Write headers at the begging of the csv file (id, name, category, ...)\n",
    "    csv_writer.writerow([desc[0] for desc in cursor.description])\n",
    "\n",
    "    csv_writer.writerows(rows)\n",
    "    print(f\"Data was sucessfully exported to {csv_file_path}\")"
   ]
  },
  {
   "cell_type": "code",
   "execution_count": 15,
   "id": "a35290f3-8685-487b-b63b-b76cff6434f1",
   "metadata": {},
   "outputs": [],
   "source": [
    "cursor.close()\n",
    "conn.close()"
   ]
  }
 ],
 "metadata": {
  "kernelspec": {
   "display_name": "Python 3 (ipykernel)",
   "language": "python",
   "name": "python3"
  },
  "language_info": {
   "codemirror_mode": {
    "name": "ipython",
    "version": 3
   },
   "file_extension": ".py",
   "mimetype": "text/x-python",
   "name": "python",
   "nbconvert_exporter": "python",
   "pygments_lexer": "ipython3",
   "version": "3.12.0"
  }
 },
 "nbformat": 4,
 "nbformat_minor": 5
}
